{
 "cells": [
  {
   "cell_type": "markdown",
   "metadata": {},
   "source": [
    "## Practical Exercises"
   ]
  },
  {
   "cell_type": "code",
   "execution_count": 32,
   "metadata": {},
   "outputs": [],
   "source": [
    "import imageio\n",
    "import matplotlib.pyplot as plt\n",
    "import elastix\n",
    "import numpy as np\n",
    "import os\n",
    "import SimpleITK as sitk\n"
   ]
  },
  {
   "cell_type": "code",
   "execution_count": 33,
   "metadata": {},
   "outputs": [],
   "source": [
    "\n",
    "# IMPORTANT: these paths may differ on your system, depending on where\n",
    "# Elastix has been installed. Please set accordingly.\n",
    "ELASTIX_PATH = os.path.join(r'C:/Users/20212059/Documents/CapitaSelecta/elastix-5.0.0-win64/elastix.exe')\n",
    "TRANSFORMIX_PATH = os.path.join(r'C:/Users/20212059/Documents/CapitaSelecta/elastix-5.0.0-win64/transformix.exe')\n"
   ]
  },
  {
   "cell_type": "code",
   "execution_count": 34,
   "metadata": {},
   "outputs": [],
   "source": [
    "\n",
    "if not os.path.exists(ELASTIX_PATH):\n",
    "    raise IOError('Elastix cannot be found, please set the correct ELASTIX_PATH.')\n",
    "if not os.path.exists(TRANSFORMIX_PATH):\n",
    "    raise IOError('Transformix cannot be found, please set the correct TRANSFORMIX_PATH.')\n",
    "\n",
    "if os.path.exists('../ImagesforPractical/MR/results') is False:\n",
    "    os.mkdir('../ImagesforPractical/MR/results')\n"
   ]
  },
  {
   "cell_type": "code",
   "execution_count": 35,
   "metadata": {},
   "outputs": [],
   "source": [
    "# path = \"../ImagesforPractical/MR/patient1.jpg\"\n",
    "# data = imageio.imread(path)\n",
    "# fig, ax = plt.subplots(1,3, figsize=(16,10))\n",
    "# ax[0].imshow(data[:,:,0], cmap='gray')\n",
    "# ax[1].imshow(data[:,:,1], cmap='gray')\n",
    "# ax[2].imshow(data[:,:,2], cmap='gray')\n",
    "\n"
   ]
  },
  {
   "cell_type": "code",
   "execution_count": null,
   "metadata": {},
   "outputs": [],
   "source": []
  },
  {
   "cell_type": "code",
   "execution_count": 36,
   "metadata": {},
   "outputs": [
    {
     "name": "stdout",
     "output_type": "stream",
     "text": [
      "C:/Users/20212059/Documents/CapitaSelecta/elastix-5.0.0-win64/elastix.exe -f ../ImagesforPractical/MR/patient1.jpg -m ../ImagesforPractical/MR/patient2.jpg -p ../ImagesforPractical/MR/parameters_bspline_multires_MR.txt -out ../ImagesforPractical/MR/results\n"
     ]
    }
   ],
   "source": [
    "# Define the paths to the two images you want to register\n",
    "fixed_image_path = os.path.join('../ImagesforPractical/MR/patient1.jpg')\n",
    "moving_image_path = os.path.join('../ImagesforPractical/MR/patient2.jpg')\n",
    "\n",
    "\n",
    "el = elastix.ElastixInterface(elastix_path=ELASTIX_PATH)\n",
    "el.register(\n",
    "    fixed_image=fixed_image_path,\n",
    "    moving_image=moving_image_path,\n",
    "    parameters=[os.path.join('../ImagesforPractical/MR/parameters_bspline_multires_MR.txt')],\n",
    "    output_dir='../ImagesforPractical/MR/results')\n"
   ]
  }
 ],
 "metadata": {
  "kernelspec": {
   "display_name": "Python 3",
   "language": "python",
   "name": "python3"
  },
  "language_info": {
   "codemirror_mode": {
    "name": "ipython",
    "version": 3
   },
   "file_extension": ".py",
   "mimetype": "text/x-python",
   "name": "python",
   "nbconvert_exporter": "python",
   "pygments_lexer": "ipython3",
   "version": "3.13.1"
  }
 },
 "nbformat": 4,
 "nbformat_minor": 2
}
