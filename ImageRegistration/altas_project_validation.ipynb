{
 "cells": [
  {
   "cell_type": "markdown",
   "metadata": {},
   "source": [
    "# Atlas Based Registration Project\n",
    "In this notebook, the registration pipeline of the baseline model is combined in a more compact code. This makes it easier to register a series of atlas images (training data) to a fixed image (validation data). Only the `FOLDER_PATH` needs to be changed based on your own directory. Make sure that the DevelopmentData folder is filled with the patient folders: p102, p107, etc. \n"
   ]
  },
  {
   "cell_type": "code",
   "execution_count": null,
   "metadata": {},
   "outputs": [],
   "source": [
    "# Library imports\n",
    "import matplotlib.pyplot as plt\n",
    "import imageio.v3 as iio\n",
    "import numpy as np\n",
    "import elastix\n",
    "import os\n",
    "\n",
    "from augmentation import *\n",
    "\n",
    "# General file paths\n",
    "BASE_PATH = \"../DevelopmentData\"\n",
    "BASE_TEST_PATH = \"../ValidatieData\"\n",
    "MR_TRAIN_PATHS = [os.path.join(BASE_PATH, f, \"mr_bffe.mhd\") for f in os.listdir(BASE_PATH) if not f.startswith('.')]\n",
    "MASK_TRAIN_PATHS = [os.path.join(BASE_PATH, f, \"prostaat.mhd\") for f in os.listdir(BASE_PATH) if not f.startswith('.')]\n",
    "MR_TEST_PATHS = [os.path.join(BASE_TEST_PATH, f, \"mr_bffe.mhd\") for f in os.listdir(BASE_TEST_PATH) if not f.startswith('.')]\n",
    "\n",
    "# Change these paths based on own directory!\n",
    "FOLDER_PATH = r'C:/Users/20212077/OneDrive - TU Eindhoven/Desktop/8DM20 - Capita Selecta Medical Imaging'\n",
    "ELASTIX_PATH = os.path.join(FOLDER_PATH,'elastix-5.0.0-win64/elastix.exe')\n",
    "TRANSFORMIX_PATH = os.path.join(FOLDER_PATH,'elastix-5.0.0-win64/transformix.exe')\n",
    "\n",
    "if not os.path.exists(ELASTIX_PATH):\n",
    "    raise IOError('Elastix cannot be found, please set the correct ELASTIX_PATH.')\n",
    "if not os.path.exists(TRANSFORMIX_PATH):\n",
    "    raise IOError('Transformix cannot be found, please set the correct TRANSFORMIX_PATH.')"
   ]
  },
  {
   "cell_type": "code",
   "execution_count": null,
   "metadata": {},
   "outputs": [],
   "source": [
    "# Load example of patient data\n",
    "mr_example = iio.imread(MR_TRAIN_PATHS[0])\n",
    "mask_example = iio.imread(MASK_TRAIN_PATHS[0])\n",
    "\n",
    "# Plot example of patient data\n",
    "slice = 150\n",
    "fig, ax = plt.subplots(1, 2, figsize=(15, 5))\n",
    "ax[0].imshow(mr_example[:,:,slice], cmap=\"gray\")\n",
    "ax[0].set_title(f\"MR prostate (slice {slice})\")\n",
    "ax[1].imshow(mask_example[:,:,slice], cmap=\"gray\")\n",
    "ax[1].set_title(f\"Prostate mask (slice {slice})\");"
   ]
  },
  {
   "cell_type": "markdown",
   "metadata": {},
   "source": [
    "## Augmented Training Data\n",
    "**The function `generate_aug_data` can be called to generate the augmented data**. If the augmented images are already generated, the image paths can be loaded directly in the next code block."
   ]
  },
  {
   "cell_type": "code",
   "execution_count": null,
   "metadata": {},
   "outputs": [],
   "source": [
    "def generate_aug_data(MR_PATHS, MASK_PATHS):\n",
    "    \"\"\"Generates augmented data images and saves them in right folder.\n",
    "    \n",
    "    parameters\n",
    "    MR_PATHS: list of paths to patient MR images,\n",
    "    MASK_PATHS: list of paths to patient mask images.\n",
    "    \n",
    "    returns\n",
    "    aug_mr_train_paths: list of paths to augmented patient MR images\n",
    "    aug_mask_train_paths: list of paths to augmented patient mask images\n",
    "    \"\"\"\n",
    "    aug_mr_train_paths = []\n",
    "    aug_mask_train_paths = []\n",
    "    for idx in range(len(MR_PATHS)):\n",
    "        # Find paths to mr image and mask\n",
    "        mr_path = MR_PATHS[idx]\n",
    "        mask_path = MASK_PATHS[idx]\n",
    "\n",
    "        # Random elastic deformation on both mr image and mask\n",
    "        aug_mr_path, aug_mask_path = reldef(mr_path, mask_path)\n",
    "\n",
    "        # Append paths in list\n",
    "        aug_mr_train_paths.append(aug_mr_path)\n",
    "        aug_mask_train_paths.append(aug_mask_path)\n",
    "\n",
    "    return aug_mr_train_paths, aug_mask_train_paths\n",
    "\n",
    "# Example usage\n",
    "# AUG_MR_PATHS, AUG_MASK_PATHS = generate_aug_data(MR_PATHS, MASK_PATHS)"
   ]
  },
  {
   "cell_type": "markdown",
   "metadata": {},
   "source": [
    "Set the variable `use_augment_data` to True if you want to run an experiment with augmented data. Set this variable to False if you want to run the baseline experiment without augmented data. Change the variable `augment_type` based on the type of augmentation used. An overview of the options is given below:\n",
    "- Normalize: `norm`\n",
    "- Random elastic deformation: `reldef`\n",
    "- Random gamma: `rgam`\n",
    "- Random rotation: `rot`\n",
    "- Rescale: `rescale`"
   ]
  },
  {
   "cell_type": "code",
   "execution_count": null,
   "metadata": {},
   "outputs": [],
   "source": [
    "# Augmentation settings\n",
    "use_augment_data = False\n",
    "augment_type = \"norm\"\n",
    "\n",
    "# Load all augmented MR images and augmented masks\n",
    "if use_augment_data and (augment_type == \"reldef\" or augment_type == \"rot\" or augment_type == \"rescale\" or augment_type == \"affine\"):\n",
    "    AUG_MR_PATHS = [os.path.join(BASE_PATH, f, f\"mr_bffe_aug_{augment_type}.mhd\") for f in os.listdir(BASE_PATH) if not f.startswith('.')] \n",
    "    AUG_MASK_PATHS = [os.path.join(BASE_PATH, f, f\"prostaat_aug_{augment_type}.mhd\") for f in os.listdir(BASE_PATH) if not f.startswith('.')]  \n",
    "\n",
    "# Load all augmented MR images without augmented masks\n",
    "if use_augment_data and (augment_type == \"norm\" or augment_type == \"rgam\"):\n",
    "    AUG_MR_PATHS = [os.path.join(BASE_PATH, f, f\"mr_bffe_aug_{augment_type}.mhd\") for f in os.listdir(BASE_PATH) if not f.startswith('.')] \n",
    "    AUG_MASK_PATHS = MASK_TRAIN_PATHS"
   ]
  },
  {
   "cell_type": "code",
   "execution_count": null,
   "metadata": {},
   "outputs": [],
   "source": [
    "# Load example of augmented patient data\n",
    "if use_augment_data:\n",
    "    aug_mr_example = iio.imread(AUG_MR_PATHS[0])\n",
    "    aug_mask_example = iio.imread(AUG_MASK_PATHS[0])\n",
    "\n",
    "    # Plot example of augmented patient data\n",
    "    slice = 150\n",
    "    fig, ax = plt.subplots(2, 2, figsize=(15, 5))\n",
    "    ax = ax.flatten()\n",
    "    ax[0].imshow(mr_example[:,:,slice], cmap=\"gray\")\n",
    "    ax[0].set_title(f\"Original MR prostate (slice {slice})\")\n",
    "    ax[1].imshow(mask_example[:,:,slice], cmap=\"gray\")\n",
    "    ax[1].set_title(f\"Original prostate mask (slice {slice})\");\n",
    "    ax[2].imshow(aug_mr_example[:,:,slice], cmap=\"gray\")\n",
    "    ax[2].set_title(f\"Augmented MR prostate (slice {slice})\")\n",
    "    ax[3].imshow(aug_mask_example[:,:,slice], cmap=\"gray\")\n",
    "    ax[3].set_title(f\"Augmented prostate mask (slice {slice})\");"
   ]
  },
  {
   "cell_type": "markdown",
   "metadata": {},
   "source": [
    "## Registration pipeline\n",
    "In the code block below, a function is defined that performs the full baseline registration process. This includes a rigid registration step for a rough initial alignment, followed by a nonlinear registration step using BSplines. Here, the fixed image represents an image with unknown mask (validation data) and the moving image is an atlas image with known mask (training data). The deformation field obtained from this registration pipeline is applied to the mask of the moving image."
   ]
  },
  {
   "cell_type": "code",
   "execution_count": null,
   "metadata": {},
   "outputs": [],
   "source": [
    "def registration_pipeline(fixed_image_path, moving_image_path, moving_mask_path):\n",
    "    \"\"\"\n",
    "    \"\"\"\n",
    "    # Make a results directory if non exists\n",
    "    if os.path.exists(\"results_baseline/rigid\") is False:\n",
    "        os.makedirs(os.path.join(\"results_baseline/rigid\"))\n",
    "    \n",
    "    # Define a new elastix object 'el' with the correct path to elastix\n",
    "    el = elastix.ElastixInterface(elastix_path=ELASTIX_PATH)\n",
    "\n",
    "    # Execute the rigid registration step\n",
    "    el.register(\n",
    "        fixed_image=fixed_image_path,\n",
    "        moving_image=moving_image_path,\n",
    "        parameters=[\"parameters_baseline_rigid.txt\"],\n",
    "        output_dir=\"results_baseline/rigid\"\n",
    "    )   \n",
    "\n",
    "    # Find result of rigid registration\n",
    "    rigid_transformed_image_path = os.path.join('results_baseline/rigid', 'result.0.mhd')\n",
    "    rigid_transform_path = os.path.join('results_baseline/rigid', 'TransformParameters.0.txt')\n",
    "\n",
    "    # Make a new transformix object tr with the CORRECT PATH to transformix\n",
    "    tr = elastix.TransformixInterface(parameters=rigid_transform_path, transformix_path=TRANSFORMIX_PATH)\n",
    "    \n",
    "    # Transform the mask with the transformation parameters\n",
    "    rigid_transformed_mask_path = tr.transform_image(moving_mask_path, output_dir=os.path.join('results_baseline/rigid'))   \n",
    "\n",
    "    # Make a results directory if non exists\n",
    "    if os.path.exists(\"results_baseline/nonlinear\") is False:\n",
    "        os.makedirs(os.path.join(\"results_baseline/nonlinear\"))\n",
    "\n",
    "    # Execute the nonlinear registration step\n",
    "    el.register(\n",
    "        fixed_image=fixed_image_path,\n",
    "        moving_image=rigid_transformed_image_path,\n",
    "        parameters=[\"parameters_baseline_nonlinear.txt\"],\n",
    "        output_dir=\"results_baseline/nonlinear\"\n",
    "    )\n",
    "\n",
    "    # Find result of nonlinear registration\n",
    "    nonlinear_transform_path = os.path.join('results_baseline/nonlinear', 'TransformParameters.0.txt')\n",
    "\n",
    "    # Make a new transformix object tr with the CORRECT PATH to transformix\n",
    "    tr = elastix.TransformixInterface(parameters=nonlinear_transform_path, transformix_path=TRANSFORMIX_PATH)\n",
    "\n",
    "    # Transform the mask with the transformation parameters\n",
    "    nonlinear_transformed_mask_path = tr.transform_image(rigid_transformed_mask_path, output_dir=os.path.join('results_baseline/nonlinear'))\n",
    "\n",
    "    return nonlinear_transformed_mask_path"
   ]
  },
  {
   "cell_type": "markdown",
   "metadata": {},
   "source": [
    "The registration pipeline is called iteratively to create all altas segmentations for an image in the validation set. The masks are loaded into a numpy array and used in the following processing steps."
   ]
  },
  {
   "cell_type": "code",
   "execution_count": null,
   "metadata": {},
   "outputs": [],
   "source": [
    "total_atlas = []\n",
    "\n",
    "for test_idx in range(len(MR_TEST_PATHS)):\n",
    "    # Loop over images in the testing set\n",
    "    atlas_masks = []\n",
    "    fixed_image_path = MR_TEST_PATHS[test_idx]\n",
    "\n",
    "    for train_idx in range(len(MR_TRAIN_PATHS)):\n",
    "        # Loop over images in the training set\n",
    "        moving_image_path = MR_TRAIN_PATHS[train_idx]\n",
    "        moving_mask_path = MASK_TRAIN_PATHS[train_idx]\n",
    "\n",
    "        # Call registration pipeline and store deformed atlas masks\n",
    "        new_atlas_mask_path = registration_pipeline(fixed_image_path, moving_image_path, moving_mask_path)\n",
    "        atlas_masks.append(iio.imread(new_atlas_mask_path))\n",
    "\n",
    "    if use_augment_data:\n",
    "        for train_idx in range(len(AUG_MR_PATHS)):\n",
    "            # Loop over images in the training set\n",
    "            moving_image_path = AUG_MR_PATHS[train_idx]\n",
    "            moving_mask_path = AUG_MASK_PATHS[train_idx]\n",
    "\n",
    "            # Call registration pipeline and store deformed atlas masks\n",
    "            new_atlas_mask_path = registration_pipeline(fixed_image_path, moving_image_path, moving_mask_path)\n",
    "            atlas_masks.append(iio.imread(new_atlas_mask_path))\n",
    "    \n",
    "    atlas_masks = np.array(atlas_masks)\n",
    "    total_atlas.append(atlas_masks)\n",
    "\n",
    "    print(f\"Finished test sample {test_idx + 1}\")\n",
    "\n",
    "# Convert to numpy array\n",
    "total_atlas = np.array(total_atlas)"
   ]
  },
  {
   "cell_type": "markdown",
   "metadata": {},
   "source": [
    "## Results\n",
    "The following figure displays the original mask of the validation sample on top. The following images show the deformed masks based on the atlas images in the training set. It will show ten images if the baseline model experiment is run and 20 images if data augmentation is turned on."
   ]
  },
  {
   "cell_type": "code",
   "execution_count": null,
   "metadata": {},
   "outputs": [],
   "source": [
    "# Testing sample\n",
    "slice = 150\n",
    "test_idx = 0\n",
    "\n",
    "fig, ax = plt.subplots(1, 1, figsize=(8, 5))\n",
    "ax.imshow(iio.imread(MR_TEST_PATHS[test_idx])[:,:,slice], cmap=\"gray\")\n",
    "ax.set_title(f\"MR prostate test data (slice {slice})\");\n",
    "\n",
    "# Atlas image segmentations\n",
    "if use_augment_data:\n",
    "    fig, ax = plt.subplots(6, 5, figsize=(20, 12))\n",
    "else:\n",
    "    fig, ax = plt.subplots(3, 5, figsize=(20, 6))\n",
    "ax = ax.flatten()\n",
    "\n",
    "for idx in range(len(atlas_masks)):\n",
    "    ax[idx].imshow(total_atlas[test_idx][idx][:,:,slice], cmap=\"gray\")\n",
    "    ax[idx].set_title(f\"Atlas mask {idx + 1}\")"
   ]
  },
  {
   "cell_type": "markdown",
   "metadata": {},
   "source": [
    "Combining the figures results in a new segmentation with values between 0 and 10 for the baseline experiment or 0 and 20 for augmented data experiments. A threshold can be chosen to create the finalized segmentation."
   ]
  },
  {
   "cell_type": "code",
   "execution_count": null,
   "metadata": {},
   "outputs": [],
   "source": [
    "all_total_masks = []\n",
    "for i in range(len(total_atlas)):\n",
    "    # for mask in atlas_masks:\n",
    "    total_mask = 0\n",
    "    for mask in total_atlas[i]:\n",
    "        total_mask += mask\n",
    "    all_total_masks.append(total_mask)\n",
    "\n",
    "slice = 150\n",
    "fig, ax = plt.subplots(5, 2, figsize=(15, 15))\n",
    "for test_idx in range(len(MR_TEST_PATHS)):\n",
    "    ax[test_idx,0].imshow(iio.imread(MR_TEST_PATHS[test_idx])[:,:,slice], cmap=\"gray\")\n",
    "    ax[test_idx,0].set_title(f\"Test image {test_idx+1} (slice {slice})\")\n",
    "    ax[test_idx,1].imshow(all_total_masks[test_idx][:,:,slice], cmap=\"gray\")\n",
    "    ax[test_idx,1].set_title(f\"Predicted mask {test_idx+1} (slice {slice})\");"
   ]
  }
 ],
 "metadata": {
  "kernelspec": {
   "display_name": "teamchallenge",
   "language": "python",
   "name": "python3"
  },
  "language_info": {
   "codemirror_mode": {
    "name": "ipython",
    "version": 3
   },
   "file_extension": ".py",
   "mimetype": "text/x-python",
   "name": "python",
   "nbconvert_exporter": "python",
   "pygments_lexer": "ipython3",
   "version": "3.13.1"
  }
 },
 "nbformat": 4,
 "nbformat_minor": 2
}
