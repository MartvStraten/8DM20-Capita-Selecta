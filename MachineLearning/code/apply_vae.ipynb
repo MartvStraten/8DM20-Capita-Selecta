{
 "cells": [
  {
   "cell_type": "code",
   "execution_count": null,
   "metadata": {},
   "outputs": [],
   "source": [
    "from pathlib import Path\n",
    "\n",
    "import torch\n",
    "from matplotlib import pyplot as plt\n",
    "\n",
    "import vae\n",
    "\n",
    "CHECKPOINTS_DIR = Path.cwd() / \"vae_model_weights\" / f\"vae_model.pth\"\n",
    "\n",
    "# hyperparameters\n",
    "IMAGE_SIZE = [64, 64]\n",
    "Z_DIM = 256\n",
    "\n",
    "vae_model = vae.VAE()\n",
    "vae_model.load_state_dict(torch.load(CHECKPOINTS_DIR))\n",
    "vae_model.eval()\n",
    "\n",
    "with torch.no_grad():\n",
    "    noise = torch.randn(10, Z_DIM)\n",
    "    image_samples = vae_model.generator(noise)\n",
    "\n",
    "    plt.imshow(image_samples[1, 0], cmap=\"gray\")\n",
    "    plt.axis(\"off\")\n",
    "    plt.show()"
   ]
  }
 ],
 "metadata": {
  "language_info": {
   "name": "python"
  }
 },
 "nbformat": 4,
 "nbformat_minor": 2
}
