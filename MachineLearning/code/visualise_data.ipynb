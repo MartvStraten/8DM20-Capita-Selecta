{
 "cells": [
  {
   "cell_type": "code",
   "execution_count": 1,
   "metadata": {},
   "outputs": [],
   "source": [
    "import random\n",
    "from pathlib import Path\n",
    "\n",
    "import torch\n",
    "from matplotlib import pyplot as plt\n",
    "from torch.utils.data import DataLoader\n",
    "\n",
    "import utils"
   ]
  },
  {
   "cell_type": "code",
   "execution_count": 2,
   "metadata": {},
   "outputs": [
    {
     "name": "stdout",
     "output_type": "stream",
     "text": [
      "c:\\Users\\const\\Documents\\GitHub\\8DM20-Capita-Selecta\\DevelopmentData\n"
     ]
    }
   ],
   "source": [
    "# directorys with data and to store training checkpoints and logs\n",
    "DATA_DIR = Path.cwd().parent.parent / \"DevelopmentData\" # pathlib library is used to handle paths\n",
    "print(DATA_DIR)\n",
    "# data settings \n",
    "NO_VALIDATION_PATIENTS = 2\n",
    "IMAGE_SIZE = [64, 64]\n",
    "BATCH_SIZE = 32"
   ]
  },
  {
   "cell_type": "code",
   "execution_count": 3,
   "metadata": {},
   "outputs": [
    {
     "data": {
      "text/plain": [
       "[WindowsPath('c:/Users/const/Documents/GitHub/8DM20-Capita-Selecta/DevelopmentData/p115'),\n",
       " WindowsPath('c:/Users/const/Documents/GitHub/8DM20-Capita-Selecta/DevelopmentData/p109'),\n",
       " WindowsPath('c:/Users/const/Documents/GitHub/8DM20-Capita-Selecta/DevelopmentData/p119'),\n",
       " WindowsPath('c:/Users/const/Documents/GitHub/8DM20-Capita-Selecta/DevelopmentData/p127'),\n",
       " WindowsPath('c:/Users/const/Documents/GitHub/8DM20-Capita-Selecta/DevelopmentData/p102'),\n",
       " WindowsPath('c:/Users/const/Documents/GitHub/8DM20-Capita-Selecta/DevelopmentData/p128'),\n",
       " WindowsPath('c:/Users/const/Documents/GitHub/8DM20-Capita-Selecta/DevelopmentData/p129'),\n",
       " WindowsPath('c:/Users/const/Documents/GitHub/8DM20-Capita-Selecta/DevelopmentData/p125'),\n",
       " WindowsPath('c:/Users/const/Documents/GitHub/8DM20-Capita-Selecta/DevelopmentData/p108'),\n",
       " WindowsPath('c:/Users/const/Documents/GitHub/8DM20-Capita-Selecta/DevelopmentData/p120'),\n",
       " WindowsPath('c:/Users/const/Documents/GitHub/8DM20-Capita-Selecta/DevelopmentData/p116'),\n",
       " WindowsPath('c:/Users/const/Documents/GitHub/8DM20-Capita-Selecta/DevelopmentData/p133'),\n",
       " WindowsPath('c:/Users/const/Documents/GitHub/8DM20-Capita-Selecta/DevelopmentData/p107'),\n",
       " WindowsPath('c:/Users/const/Documents/GitHub/8DM20-Capita-Selecta/DevelopmentData/p117'),\n",
       " WindowsPath('c:/Users/const/Documents/GitHub/8DM20-Capita-Selecta/DevelopmentData/p135')]"
      ]
     },
     "execution_count": 3,
     "metadata": {},
     "output_type": "execute_result"
    }
   ],
   "source": [
    "# find patient folders in training directory\n",
    "# excluding hidden folders (start with .)\n",
    "patients = [\n",
    "    path\n",
    "    for path in DATA_DIR.glob(\"*\")\n",
    "    if not any(part.startswith(\".\") for part in path.parts)\n",
    "]\n",
    "random.shuffle(patients)\n",
    "\n",
    "# split in training/validation after shuffling\n",
    "partition = {\n",
    "    \"train\": patients[:-NO_VALIDATION_PATIENTS],\n",
    "    \"validation\": patients[-NO_VALIDATION_PATIENTS:],\n",
    "}\n",
    "patients"
   ]
  },
  {
   "cell_type": "code",
   "execution_count": 4,
   "metadata": {},
   "outputs": [],
   "source": [
    "# load training data and create DataLoader with batching and shuffling\n",
    "dataset = utils.ProstateMRDataset(partition[\"train\"], IMAGE_SIZE)\n",
    "dataloader = DataLoader(\n",
    "    dataset,\n",
    "    batch_size=BATCH_SIZE,\n",
    "    shuffle=True,\n",
    "    drop_last=True,\n",
    "    pin_memory=True,\n",
    ")"
   ]
  },
  {
   "cell_type": "code",
   "execution_count": 5,
   "metadata": {},
   "outputs": [],
   "source": [
    "# load validation data\n",
    "valid_dataset = utils.ProstateMRDataset(partition[\"validation\"], IMAGE_SIZE, valid=True)\n",
    "valid_dataloader = DataLoader(\n",
    "    valid_dataset,\n",
    "    batch_size=BATCH_SIZE,\n",
    "    shuffle=True,\n",
    "    drop_last=True,\n",
    "    pin_memory=True,\n",
    ")"
   ]
  },
  {
   "cell_type": "code",
   "execution_count": 6,
   "metadata": {},
   "outputs": [],
   "source": [
    "input, target = next(iter(valid_dataloader))"
   ]
  },
  {
   "cell_type": "code",
   "execution_count": 10,
   "metadata": {},
   "outputs": [
    {
     "name": "stdout",
     "output_type": "stream",
     "text": [
      "torch.Size([32, 1, 64, 64])\n",
      "torch.Size([32, 1, 64, 64])\n"
     ]
    }
   ],
   "source": [
    "print(target.shape)\n",
    "print(input.shape)"
   ]
  },
  {
   "cell_type": "code",
   "execution_count": 8,
   "metadata": {},
   "outputs": [
    {
     "data": {
      "image/png": "[encoded data removed]",
      "text/plain": [
       "<Figure size 640x480 with 2 Axes>"
      ]
     },
     "metadata": {},
     "output_type": "display_data"
    }
   ],
   "source": [
    "plt.subplot(121)\n",
    "plt.imshow(input[7,0,...], cmap=\"gray\")\n",
    "plt.axis(\"off\")\n",
    "plt.subplot(122)\n",
    "plt.imshow(target[7,0,...], cmap=\"gray\")\n",
    "plt.axis(\"off\")\n",
    "plt.show()"
   ]
  },
  {
   "cell_type": "code",
   "execution_count": 9,
   "metadata": {},
   "outputs": [],
   "source": [
    "input, target = next(iter(dataloader))"
   ]
  },
  {
   "cell_type": "code",
   "execution_count": 10,
   "metadata": {},
   "outputs": [
    {
     "data": {
      "image/png": "[encoded data removed]",
      "text/plain": [
       "<Figure size 640x480 with 2 Axes>"
      ]
     },
     "metadata": {},
     "output_type": "display_data"
    }
   ],
   "source": [
    "plt.subplot(121)\n",
    "plt.imshow(input[7,0,...], cmap=\"gray\")\n",
    "plt.axis(\"off\")\n",
    "plt.subplot(122)\n",
    "plt.imshow(target[7,0,...], cmap=\"gray\")\n",
    "plt.axis(\"off\")\n",
    "plt.show()"
   ]
  },
  {
   "cell_type": "code",
   "execution_count": null,
   "metadata": {},
   "outputs": [],
   "source": []
  }
 ],
 "metadata": {
  "kernelspec": {
   "display_name": ".venv",
   "language": "python",
   "name": "python3"
  },
  "language_info": {
   "codemirror_mode": {
    "name": "ipython",
    "version": 3
   },
   "file_extension": ".py",
   "mimetype": "text/x-python",
   "name": "python",
   "nbconvert_exporter": "python",
   "pygments_lexer": "ipython3",
   "version": "3.11.9"
  }
 },
 "nbformat": 4,
 "nbformat_minor": 2
}
