{
 "cells": [
  {
   "cell_type": "markdown",
   "metadata": {},
   "source": [
    "# U-NET Model Training"
   ]
  },
  {
   "cell_type": "code",
   "execution_count": 1,
   "metadata": {},
   "outputs": [
    {
     "name": "stderr",
     "output_type": "stream",
     "text": [
      "C:\\Users\\20182717\\AppData\\Local\\Temp\\ipykernel_15488\\1543807283.py:4: DeprecationWarning: the imp module is deprecated in favour of importlib and slated for removal in Python 3.12; see the module's documentation for alternative uses\n",
      "  import imp\n"
     ]
    },
    {
     "data": {
      "text/plain": [
       "<module 'utils' from 'd:\\\\TUe\\\\8DM20\\\\8DM20-Capita-Selecta\\\\MachineLearning\\\\code\\\\utils.py'>"
      ]
     },
     "execution_count": 1,
     "metadata": {},
     "output_type": "execute_result"
    }
   ],
   "source": [
    "import neptune\n",
    "import torch\n",
    "import random\n",
    "import imp\n",
    "\n",
    "from torch.utils.data import DataLoader\n",
    "from pathlib import Path\n",
    "from tqdm import tqdm\n",
    "\n",
    "import u_net\n",
    "import utils\n",
    "import env # env.py (file with API key included in .gitignore)\n",
    "imp.reload(utils)"
   ]
  },
  {
   "cell_type": "code",
   "execution_count": 2,
   "metadata": {},
   "outputs": [],
   "source": [
    "# to ensure reproducible training/validation split\n",
    "random.seed(42)\n",
    "\n",
    "# find out if a GPU is available\n",
    "if torch.cuda.is_available():\n",
    "    device = torch.device(\"cuda\")\n",
    "elif torch.backends.mps.is_available():\n",
    "    device = torch.device(\"mps\")\n",
    "else:\n",
    "    device = torch.device(\"cpu\")\n",
    "\n",
    "# directorys with data and to store training checkpoints and logs\n",
    "DATA_DIR = Path.cwd().parent.parent / \"DevelopmentData\"\n",
    "CHECKPOINTS_DIR = Path.cwd() / \"segmentation_model_weights\""
   ]
  },
  {
   "cell_type": "code",
   "execution_count": 4,
   "metadata": {},
   "outputs": [
    {
     "name": "stderr",
     "output_type": "stream",
     "text": [
      "c:\\Users\\20182717\\AppData\\Local\\Programs\\Python\\Python311\\Lib\\site-packages\\numpy\\core\\fromnumeric.py:3504: RuntimeWarning: Mean of empty slice.\n",
      "  return _methods._mean(a, axis=axis, dtype=dtype,\n",
      "c:\\Users\\20182717\\AppData\\Local\\Programs\\Python\\Python311\\Lib\\site-packages\\numpy\\core\\_methods.py:129: RuntimeWarning: invalid value encountered in scalar divide\n",
      "  ret = ret.dtype.type(ret / rcount)\n",
      "c:\\Users\\20182717\\AppData\\Local\\Programs\\Python\\Python311\\Lib\\site-packages\\numpy\\core\\_methods.py:206: RuntimeWarning: Degrees of freedom <= 0 for slice\n",
      "  ret = _var(a, axis=axis, dtype=dtype, out=out, ddof=ddof,\n",
      "c:\\Users\\20182717\\AppData\\Local\\Programs\\Python\\Python311\\Lib\\site-packages\\numpy\\core\\_methods.py:163: RuntimeWarning: invalid value encountered in divide\n",
      "  arrmean = um.true_divide(arrmean, div, out=arrmean,\n",
      "c:\\Users\\20182717\\AppData\\Local\\Programs\\Python\\Python311\\Lib\\site-packages\\numpy\\core\\_methods.py:198: RuntimeWarning: invalid value encountered in scalar divide\n",
      "  ret = ret.dtype.type(ret / rcount)\n"
     ]
    }
   ],
   "source": [
    "# training settings and hyperparameters\n",
    "NO_VALIDATION_PATIENTS = 2\n",
    "IMAGE_SIZE = [64, 64]\n",
    "BATCH_SIZE = 32\n",
    "N_EPOCHS = 100\n",
    "LEARNING_RATE = 1e-4\n",
    "TOLERANCE = 0.01  # for early stopping\n",
    "\n",
    "# find patient folders in training directory\n",
    "# excluding hidden folders (start with .)\n",
    "patient_paths = [\n",
    "    path\n",
    "    for path in DATA_DIR.glob(\"*\")\n",
    "    if any(part.startswith(\"p\") for part in path.parts)\n",
    "]\n",
    "random.shuffle(patient_paths)\n",
    "cvae_paths = [\n",
    "    path\n",
    "    for path in DATA_DIR.glob(\"*\")\n",
    "    if any(part.startswith(\"c\") for part in path.parts)\n",
    "]\n",
    "\n",
    "# split in training/validation after shuffling\n",
    "partition = {\n",
    "    \"train\": patient_paths[:-NO_VALIDATION_PATIENTS],\n",
    "    \"validation\": patient_paths[-NO_VALIDATION_PATIENTS:],\n",
    "}\n",
    "\n",
    "# load training data and create DataLoader with batching and shuffling\n",
    "dataset = utils.CombinedProstateMRDataset(partition[\"train\"], cvae_paths, IMAGE_SIZE)\n",
    "dataloader = DataLoader(\n",
    "    dataset,\n",
    "    batch_size=BATCH_SIZE,\n",
    "    shuffle=True,\n",
    "    drop_last=True,\n",
    "    pin_memory=True,\n",
    ")\n",
    "\n",
    "# load validation data\n",
    "valid_dataset = utils.CombinedProstateMRDataset(partition[\"validation\"], [], IMAGE_SIZE, valid=True)\n",
    "valid_dataloader = DataLoader(\n",
    "    valid_dataset,\n",
    "    batch_size=BATCH_SIZE,\n",
    "    shuffle=True,\n",
    "    drop_last=True,\n",
    "    pin_memory=True,\n",
    ")\n",
    "\n",
    "# initialise model, optimiser, and loss function\n",
    "loss_function = utils.DiceBCELoss()\n",
    "unet_model = u_net.UNet(num_classes=1).to(device)\n",
    "optimizer = torch.optim.Adam(unet_model.parameters(), lr=LEARNING_RATE)\n",
    "minimum_valid_loss = 10  # initial validation loss"
   ]
  },
  {
   "cell_type": "code",
   "execution_count": 5,
   "metadata": {},
   "outputs": [
    {
     "name": "stdout",
     "output_type": "stream",
     "text": [
      "[neptune] [info   ] Neptune initialized. Open in the app: https://app.neptune.ai/Capita-Selecta-Group-8/unet-cvae-data/e/UN-4\n"
     ]
    },
    {
     "name": "stderr",
     "output_type": "stream",
     "text": [
      "[neptune] [warning] NeptuneUnsupportedType: You're attempting to log a type that is not directly supported by Neptune (<class 'torch.device'>).\n",
      "        Convert the value to a supported type, such as a string or float, or use stringify_unsupported(obj)\n",
      "        for dictionaries or collections that contain unsupported values.\n",
      "        For more, see https://docs.neptune.ai/help/value_of_unsupported_type\n",
      " 13%|█▎        | 10/75 [00:11<01:14,  1.15s/it]\n"
     ]
    },
    {
     "ename": "KeyboardInterrupt",
     "evalue": "",
     "output_type": "error",
     "traceback": [
      "\u001b[1;31m---------------------------------------------------------------------------\u001b[0m",
      "\u001b[1;31mKeyboardInterrupt\u001b[0m                         Traceback (most recent call last)",
      "Cell \u001b[1;32mIn[5], line 27\u001b[0m\n\u001b[0;32m     25\u001b[0m     loss \u001b[38;5;241m=\u001b[39m loss_function(outputs, labels\u001b[38;5;241m.\u001b[39mto(device)\u001b[38;5;241m.\u001b[39mfloat())\n\u001b[0;32m     26\u001b[0m     loss\u001b[38;5;241m.\u001b[39mbackward()  \u001b[38;5;66;03m# backpropagate loss\u001b[39;00m\n\u001b[1;32m---> 27\u001b[0m     current_train_loss \u001b[38;5;241m+\u001b[39m\u001b[38;5;241m=\u001b[39m \u001b[43mloss\u001b[49m\u001b[38;5;241;43m.\u001b[39;49m\u001b[43mitem\u001b[49m\u001b[43m(\u001b[49m\u001b[43m)\u001b[49m\n\u001b[0;32m     28\u001b[0m     optimizer\u001b[38;5;241m.\u001b[39mstep()  \u001b[38;5;66;03m# update weights\u001b[39;00m\n\u001b[0;32m     30\u001b[0m \u001b[38;5;66;03m# evaluate validation loss\u001b[39;00m\n",
      "\u001b[1;31mKeyboardInterrupt\u001b[0m: "
     ]
    }
   ],
   "source": [
    "# Initialize Neptune experiment\n",
    "run = neptune.init_run(\n",
    "    project=\"Capita-Selecta-Group-8/unet-cvae-data\",\n",
    "    api_token=env.api_key\n",
    ")\n",
    "\n",
    "# Track hyperparameters\n",
    "run[\"parameters\"] = {\n",
    "    \"lr\": LEARNING_RATE,\n",
    "    \"bs\": BATCH_SIZE,\n",
    "    \"epochs\": N_EPOCHS,\n",
    "    \"input_sz\": IMAGE_SIZE[0] * IMAGE_SIZE[1],\n",
    "    \"device\": torch.device(\"cuda\" if torch.cuda.is_available() else \"cpu\")\n",
    "}\n",
    "\n",
    "# training loop\n",
    "for epoch in range(N_EPOCHS):\n",
    "    current_train_loss = 0.0\n",
    "    current_valid_loss = 0.0\n",
    "\n",
    "    for inputs, labels in tqdm(dataloader, position=0):\n",
    "        # needed to zero gradients in each iterations\n",
    "        optimizer.zero_grad()\n",
    "        outputs = unet_model(inputs.to(device))  # forward pass\n",
    "        loss = loss_function(outputs, labels.to(device).float())\n",
    "        loss.backward()  # backpropagate loss\n",
    "        current_train_loss += loss.item()\n",
    "        optimizer.step()  # update weights\n",
    "\n",
    "    # evaluate validation loss\n",
    "    with torch.no_grad():\n",
    "        unet_model.eval()\n",
    "        for inputs, labels in tqdm(valid_dataloader, position=0):\n",
    "            outputs = unet_model(inputs.to(device))  # forward pass\n",
    "            loss = loss_function(outputs, labels.to(device).float())\n",
    "            current_valid_loss += loss.item()\n",
    "\n",
    "        unet_model.train()\n",
    "\n",
    "    # Write to neptune log\n",
    "    run[\"train/loss\"].append(current_train_loss)\n",
    "    run[\"valid/loss\"].append(current_valid_loss)\n",
    "\n",
    "    # if validation loss is improving, save model checkpoint\n",
    "    # only start saving after 10 epochs\n",
    "    if (current_valid_loss / len(valid_dataloader)) < minimum_valid_loss + TOLERANCE:\n",
    "        minimum_valid_loss = current_valid_loss / len(valid_dataloader)\n",
    "        weights_dict = {k: v.cpu() for k, v in unet_model.state_dict().items()}\n",
    "        if epoch > 9:\n",
    "            torch.save(\n",
    "                weights_dict,\n",
    "                CHECKPOINTS_DIR / f\"u_net.pth\",\n",
    "            )\n",
    "\n",
    "# End neptune run\n",
    "run.stop()"
   ]
  }
 ],
 "metadata": {
  "kernelspec": {
   "display_name": "Python 3",
   "language": "python",
   "name": "python3"
  },
  "language_info": {
   "codemirror_mode": {
    "name": "ipython",
    "version": 3
   },
   "file_extension": ".py",
   "mimetype": "text/x-python",
   "name": "python",
   "nbconvert_exporter": "python",
   "pygments_lexer": "ipython3",
   "version": "3.11.4"
  }
 },
 "nbformat": 4,
 "nbformat_minor": 2
}
