{
 "cells": [
  {
   "cell_type": "code",
   "execution_count": null,
   "metadata": {},
   "outputs": [
    {
     "data": {
      "image/png": "[encoded data removed]",
      "text/plain": [
       "<Figure size 640x480 with 3 Axes>"
      ]
     },
     "metadata": {},
     "output_type": "display_data"
    }
   ],
   "source": [
    "import random\n",
    "from pathlib import Path\n",
    "\n",
    "import numpy as np\n",
    "import torch\n",
    "import scipy\n",
    "from matplotlib import pyplot as plt\n",
    "from torch.utils.data import DataLoader\n",
    "\n",
    "import u_net\n",
    "import utils\n",
    "\n",
    "# to ensure reproducible training/validation split\n",
    "random.seed(42)\n",
    "\n",
    "# directorys with data and to stored training checkpoints\n",
    "DATA_DIR = Path.cwd().parent.parent / \"DevelopmentData\"\n",
    "CHECKPOINTS_DIR = Path.cwd() / \"segmentation_model_weights\" / f\"u_net.pth\"\n",
    "\n",
    "# hyperparameters\n",
    "NO_VALIDATION_PATIENTS = 2\n",
    "IMAGE_SIZE = [64, 64]\n",
    "\n",
    "# find patient folders in training directory\n",
    "# excluding hidden folders (start with .)\n",
    "patients = [\n",
    "    path\n",
    "    for path in DATA_DIR.glob(\"*\")\n",
    "    if any(part.startswith(\"p\") for part in path.parts)\n",
    "]\n",
    "random.shuffle(patients)\n",
    "\n",
    "# split in training/validation after shuffling\n",
    "partition = {\n",
    "    \"train\": patients[:-NO_VALIDATION_PATIENTS],\n",
    "    \"validation\": patients[-NO_VALIDATION_PATIENTS:],\n",
    "}\n",
    "\n",
    "# load validation data\n",
    "valid_dataset = utils.CombinedProstateMRDataset(partition[\"validation\"], IMAGE_SIZE)\n",
    "total_prostate, total_segment = next(iter(valid_dataset))\n",
    "\n",
    "unet_model = u_net.UNet(num_classes=1)\n",
    "unet_model.load_state_dict(torch.load(CHECKPOINTS_DIR))\n",
    "unet_model.eval()\n",
    "\n",
    "with torch.no_grad():\n",
    "    predict_index = 70\n",
    "    mr_prostate = total_prostate[predict_index]\n",
    "    mask = total_segment[predict_index].to(mr_prostate.dtype).unsqueeze(0)\n",
    "    \n",
    "    (input, target) = valid_dataset[predict_index]\n",
    "    output = torch.sigmoid(unet_model(input[np.newaxis, ...]))\n",
    "    prediction = torch.round(output)\n",
    "    \n",
    "\n",
    "    plt.subplot(131)\n",
    "    plt.imshow(input[0], cmap=\"gray\")\n",
    "    plt.subplot(132)\n",
    "    plt.imshow(target[0])\n",
    "    plt.subplot(133)\n",
    "    plt.imshow(prediction[0, 0])\n",
    "    plt.show()\n",
    "    \n",
    "    # dice_scores = []\n",
    "    # for (img, target) in valid_dataset:\n",
    "    #     output = torch.sigmoid(unet_model(img[np.newaxis, ...]))\n",
    "    #     prediction = torch.round(output)\n",
    "    #     dice_scores.append(scipy.spatial.distance.dice(target[0].view(-1), prediction[0, 0].view(-1)))"
   ]
  },
  {
   "cell_type": "code",
   "execution_count": 51,
   "metadata": {},
   "outputs": [
    {
     "name": "stdout",
     "output_type": "stream",
     "text": [
      "mean: 0.0581\n",
      " std: 0.0483\n"
     ]
    },
    {
     "data": {
      "image/png": "[encoded data removed]",
      "text/plain": [
       "<Figure size 640x480 with 1 Axes>"
      ]
     },
     "metadata": {},
     "output_type": "display_data"
    }
   ],
   "source": [
    "cleaned_dice_scores = [x for x in dice_scores if x == x and x != 1.0]\n",
    "plt.hist(cleaned_dice_scores, bins=100)\n",
    "print(f\"mean: {np.mean(cleaned_dice_scores):.4f}\\n std: {np.std(cleaned_dice_scores):.4f}\")"
   ]
  },
  {
   "cell_type": "code",
   "execution_count": 55,
   "metadata": {},
   "outputs": [
    {
     "data": {
      "text/plain": [
       "0.01107011070110701"
      ]
     },
     "execution_count": 55,
     "metadata": {},
     "output_type": "execute_result"
    }
   ],
   "source": [
    "dice_scores[120]\n",
    "# len(cleaned_dice_scores)"
   ]
  },
  {
   "cell_type": "code",
   "execution_count": 26,
   "metadata": {},
   "outputs": [
    {
     "data": {
      "text/plain": [
       "0.2571428571428571"
      ]
     },
     "execution_count": 26,
     "metadata": {},
     "output_type": "execute_result"
    }
   ],
   "source": [
    "max([x for x in dice_scores if x == x and x != 1.0])"
   ]
  }
 ],
 "metadata": {
  "kernelspec": {
   "display_name": "Python 3",
   "language": "python",
   "name": "python3"
  },
  "language_info": {
   "codemirror_mode": {
    "name": "ipython",
    "version": 3
   },
   "file_extension": ".py",
   "mimetype": "text/x-python",
   "name": "python",
   "nbconvert_exporter": "python",
   "pygments_lexer": "ipython3",
   "version": "3.11.4"
  }
 },
 "nbformat": 4,
 "nbformat_minor": 2
}
